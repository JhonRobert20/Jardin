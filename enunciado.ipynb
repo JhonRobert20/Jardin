{
 "cells": [
  {
   "cell_type": "markdown",
   "metadata": {},
   "source": [
    "# Simulación de un jardín\n",
    "En este ejercicio vamos a construir una simulación muy simplificada de plantas que se reproducen en un jardín.\n",
    "\n",
    "Se entregan tres ficheros .py para completar:\n",
    "* `planta.py` contiene la definición de la clase `Planta`. Algunos métodos vienen hechos, otros deberás completarlos.\n",
    "* `jardin.py` contiene la definición de la clase `Jardin`. Algunos métodos vienen hechos, otros deberás completarlos.\n",
    "* `ejemplouso.py` es donde importaremos las definiciones de `Planta` y `Jardin`, para hacer uso de ellas.\n",
    "\n",
    "\n",
    "## Clase `Planta`\n",
    "Una planta tiene como atributos:\n",
    "* `pos`: un `np.array` tamaño 2, las coordinadas (X, Y) de la planta en el bosque.\n",
    "* `color`: un `np.array` tamaño 3, que designa en [RGB](https://en.wikipedia.org/wiki/RGB_color_model) el color de la planta. Es la forma habitual en que en lenguajes de programación especificamos colores.\n",
    "* `radio_alcance`: un `float`, el radio máximo al que la planta lanza una espora cuando se reproduce.\n",
    "* `radio_exclusion`: un `float`, el radio máximo al que la planta impide que crezca cualquier espora."
   ]
  },
  {
   "cell_type": "markdown",
   "metadata": {},
   "source": [
    "Tres ejemplos de plantas:"
   ]
  },
  {
   "cell_type": "code",
   "execution_count": 1,
   "metadata": {},
   "outputs": [
    {
     "output_type": "error",
     "ename": "NameError",
     "evalue": "name 'Planta' is not defined",
     "traceback": [
      "\u001b[1;31m---------------------------------------------------------------------------\u001b[0m",
      "\u001b[1;31mNameError\u001b[0m                                 Traceback (most recent call last)",
      "\u001b[1;32m<ipython-input-1-5ff292839ee7>\u001b[0m in \u001b[0;36m<module>\u001b[1;34m\u001b[0m\n\u001b[1;32m----> 1\u001b[1;33m Planta(pos=np.array([-3.254, 6.25]), color=np.array([1.0, 0.0, 0.0]),\n\u001b[0m\u001b[0;32m      2\u001b[0m        radio_exclusion=0.48, radio_alcance=1.39)\n\u001b[0;32m      3\u001b[0m Planta(pos=np.array([7.812, 2.25]), color=np.array([0.0, 1.0, 0.0]),\n\u001b[0;32m      4\u001b[0m        radio_exclusion=0.60, radio_alcance=1.16)\n\u001b[0;32m      5\u001b[0m Planta(pos=np.array([-2.98, -8.25]), color=np.array([0.0, 0.0, 1.0]),\n",
      "\u001b[1;31mNameError\u001b[0m: name 'Planta' is not defined"
     ]
    }
   ],
   "source": [
    "Planta(pos=np.array([-3.254, 6.25]), color=np.array([1.0, 0.0, 0.0]),\n",
    "       radio_exclusion=0.48, radio_alcance=1.39)\n",
    "Planta(pos=np.array([7.812, 2.25]), color=np.array([0.0, 1.0, 0.0]),\n",
    "       radio_exclusion=0.60, radio_alcance=1.16)\n",
    "Planta(pos=np.array([-2.98, -8.25]), color=np.array([0.0, 0.0, 1.0]),\n",
    "       radio_exclusion=0.52, radio_alcance=1.28)"
   ]
  },
  {
   "cell_type": "markdown",
   "metadata": {},
   "source": [
    "En cuanto a métodos, la planta deberá tener al menos:\n",
    "* El constructor `__init__`.\n",
    "* `bloquea_crecimiento(self, pos)`: devuelve un booleano, que indica si `pos` está cubierta por la planta `self` o no. Eso sucede cuando `pos` está en el cuadrado centrado en `self.pos` de radio `radio_exclusion` (ver nota al  final).\n",
    "* `lanza_espora(self)`: Devuelve una nueva planta hija de `self`. Características: \n",
    "  * Su posición deberá ser una elegida al azar uniformemente en el cuadrado centrado en `self.pos`  de radio `radio_alcance`.\n",
    "  * Su color, será como el de `self`, pero cada componente puede variar a lo sumo 0.15 (y nunca salirse del intervalo $[0, 1]$). `Numpy` tiene una función `clip` que hace esto muy sencillo, aunque no la necesitas.\n",
    "  * Su `radio_exclusion` se elige entre el 90% del de `self`, y su 110%.\n",
    "  * Su `radio_alcance` se elige entre el 90% del de `self`, y su 110%.\n",
    "\n",
    "Es decir, son plantas que se reproducen de forma asexual, cada hija es una pequeña variación de su madre.\n"
   ]
  },
  {
   "cell_type": "markdown",
   "metadata": {},
   "source": [
    "## Clase `Jardin`\n",
    "Será la encargada de gestionar las plantas en una región cuadrada.\n",
    "\n",
    "Tiene como atributos:\n",
    "* `radio`: un `float`, que determina la extensión del jardín. Las posiciones de las plantas tendrán coordenadas cuyo valor absoluto es menor que el radio. Es decir, están en el cuadrado de centro O (el orígen del plano, punto $(0, 0)$) y radio `radio`.\n",
    "* `plantas`: la lista de plantas en el jardín, en el orden en que han ido naciendo."
   ]
  },
  {
   "cell_type": "markdown",
   "metadata": {},
   "source": [
    "En cuanto a métodos, al menos deberán estar:\n",
    "\n",
    "* El constructor `__init__`.\n",
    "* `intenta_plantar(self, pl)`: dada la planta `pl`, comprueba si podría añadirla como nueva en el jardín `self`. Esto sucede cuando la posición de la planta `pl` está dentro del jardín, y no es bloqueada por ninguna de las plantas que ya forman parte del jardín. En caso favorable, la inserta como nueva planta y devuelve `True`. En caso desfavorable, no la inserta y devuelve `False`.\n",
    "* `crecimiento_total(self, nintentos=1000)`: Repetidamente, elige una planta al azar en el jardín, genera una hija suya e intenta plantarla. Al intentar plantar cada una de esas plantas, es posible que se tenga éxito, o que no. Cuando se produzcan `nintentos` fracasos consecutivos, se entiende que el jardín está lleno y el proceso termina. La función no devuelve nada.\n"
   ]
  },
  {
   "cell_type": "markdown",
   "metadata": {},
   "source": [
    "## Objetivos:\n",
    "* Implementa las dos clases anteriores, completando los métodos descritos (en el material entregado solo contienen la instruccion `pass`). Puedes apoyarte en otros que diseñes tú mismo, pero en ese caso **escribe un docstring detallado** para que yo entienda lo que pretenden.\n",
    "* Completa el fichero `ejemplouso.py` que te entregamos, con la siguiente secuencia:\n",
    "   * Crea un jardín con `radio` 10.\n",
    "   * Incluye en el jardín las 3 plantas que aparecen más arriba como ejemplo en este enunciado.\n",
    "   * Invoca a `crecimiento_total` para dejar que surjan nuevas plantas.\n",
    "   * Invoca a `mapa_aereo`, que te damos hecha, para ver cómo te ha quedado el jardín. Lo que dibuja es cada planta con su zona de bloqueo.\n"
   ]
  },
  {
   "cell_type": "markdown",
   "metadata": {},
   "source": [
    "## Observaciones:\n",
    "* Sigue las especificaciones fielmente. No cambies los prototipos de los métodos dados, ni los nombres de las clases.\n",
    "* Las zonas de bloqueo de distintas plantas pueden solapar. Lo que no puede suceder es que el centro de una de ellas caiga dentro de otra. De igual manera las zonas de bloqueo pueden salirse del jardín, pero no las posiciones de las plantas.\n",
    "* Distintas variables llevan nombres derivados de `radio`. Para evitar confusión, que quede claro que no se manejan regiones circulares, sino cuadradas con lados paralelos a los ejes, por hacer el problema más sencillo. El `radio` del cuadrado es la distancia del centro al punto medio de cualquiera de sus lados. Es decir, el cuadrado de radio $r$ tiene lado $2r$."
   ]
  },
  {
   "cell_type": "code",
   "execution_count": null,
   "metadata": {},
   "outputs": [],
   "source": []
  }
 ],
 "metadata": {
  "kernelspec": {
   "display_name": "Python 3",
   "language": "python",
   "name": "python3"
  },
  "language_info": {
   "codemirror_mode": {
    "name": "ipython",
    "version": 3
   },
   "file_extension": ".py",
   "mimetype": "text/x-python",
   "name": "python",
   "nbconvert_exporter": "python",
   "pygments_lexer": "ipython3",
   "version": "3.8.3-final"
  }
 },
 "nbformat": 4,
 "nbformat_minor": 4
}